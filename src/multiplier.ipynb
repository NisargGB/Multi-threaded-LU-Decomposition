{
 "cells": [
  {
   "cell_type": "code",
   "execution_count": 16,
   "metadata": {},
   "outputs": [
    {
     "name": "stdout",
     "output_type": "stream",
     "text": [
      "[0. 0. 0. 0.]\n",
      "[3.55271368e-15 3.99680289e-15 1.72084569e-15 1.33226763e-15]\n",
      "[-3.55271368e-15 -5.32907052e-15 -2.22044605e-15  0.00000000e+00]\n",
      "[-2.66453526e-15 -1.77635684e-15 -6.66133815e-16  0.00000000e+00]\n"
     ]
    }
   ],
   "source": [
    "import numpy\n",
    "from skfeature.utility.sparse_learning import calculate_l21_norm\n",
    "\n",
    "# Run by: $python multiplier.py --n=3 --alu==<filename>\n",
    "\n",
    "\n",
    "from optparse import OptionParser\n",
    "parser = OptionParser()\n",
    "parser.add_option(\"--n\", dest=\"n\", default=4)\n",
    "parser.add_option(\"-f\", dest=\"filename\", default=\"\")\n",
    "parser.add_option(\"--alu\", dest=\"myfile\", default=\"ALU.txt\")\n",
    "\n",
    "(opts, args) = parser.parse_args()\n",
    "n = int(opts.n)\n",
    "\n",
    "def read(filename):\n",
    "    lines = open(filename, 'r').read().splitlines()\n",
    "    A = []\n",
    "    Ares = []\n",
    "    L = []\n",
    "    U = []\n",
    "    Pi = []\n",
    "    matrix = A\n",
    "    counter = 0;\n",
    "    for line in lines:\n",
    "#         print(line)\n",
    "        if counter%n != 0 or counter == 0:\n",
    "            matrix.append(list(map(float, line.split(\" \")[:-1])))\n",
    "            counter = counter + 1\n",
    "        else:\n",
    "            if(counter == n):\n",
    "                matrix = Ares\n",
    "            elif(counter == 2*n):\n",
    "                matrix = L\n",
    "            elif(counter == 3*n):\n",
    "                matrix = U\n",
    "            elif(counter == 4*n):\n",
    "                matrix = Pi\n",
    "            matrix.append(list(map(float, line.split(\" \")[:-1])))\n",
    "            counter = counter + 1\n",
    "        if(counter == 5*n):\n",
    "            break\n",
    "    return A, Ares, L, U, Pi\n",
    "\n",
    "def printMatrix(matrix):\n",
    "    matrix = numpy.array(matrix)\n",
    "    for line in matrix:\n",
    "#         print (\"\\t\".join(map(str,line)))\n",
    "        print(line)\n",
    "\n",
    "A, Ares, L, U, Pi = read(opts.myfile)\n",
    "A = numpy.matrix(A)\n",
    "P = numpy.zeros((n,n))\n",
    "# Pi = numpy.matrix(Pi)\n",
    "Ares = numpy.matrix(Ares)\n",
    "L = numpy.matrix(L)\n",
    "U = numpy.matrix(U)\n",
    "\n",
    "for x in range(n):\n",
    "    P[x][int(Pi[0][x])] = 1\n",
    "\n",
    "C = L * U # easy and intuitive, isn't it?\n",
    "D = P * A\n",
    "ans = D - C\n",
    "printMatrix(ans)\n",
    "\n",
    "# util.sparse_learning.calculate_l21_norm(ans)\n",
    "# printMatrix(D)\n",
    "# printMatrix(A)\n",
    "# printMatrix(B)\n",
    "\n",
    "\n"
   ]
  }
 ],
 "metadata": {
  "kernelspec": {
   "display_name": "Python 3",
   "language": "python",
   "name": "python3"
  },
  "language_info": {
   "codemirror_mode": {
    "name": "ipython",
    "version": 3
   },
   "file_extension": ".py",
   "mimetype": "text/x-python",
   "name": "python",
   "nbconvert_exporter": "python",
   "pygments_lexer": "ipython3",
   "version": "3.6.9"
  }
 },
 "nbformat": 4,
 "nbformat_minor": 2
}
