{
 "cells": [
  {
   "cell_type": "code",
   "execution_count": 58,
   "metadata": {},
   "outputs": [
    {
     "name": "stdout",
     "output_type": "stream",
     "text": [
      "[7. 8. 9.]\n",
      "[1. 2. 3.]\n",
      "[4. 5. 6.]\n"
     ]
    }
   ],
   "source": [
    "import numpy\n",
    "\n",
    "# Run by: $python multiplier.py --n=3 --alu==<filename>\n",
    "\n",
    "\n",
    "from optparse import OptionParser\n",
    "parser = OptionParser()\n",
    "parser.add_option(\"--n\", dest=\"n\", default=3)\n",
    "parser.add_option(\"-f\", dest=\"filename\", default=\"\")\n",
    "parser.add_option(\"--alu\", dest=\"myfile\", default=\"ALU.txt\")\n",
    "\n",
    "(opts, args) = parser.parse_args()\n",
    "n = int(opts.n)\n",
    "\n",
    "def read(filename):\n",
    "    lines = open(filename, 'r').read().splitlines()\n",
    "    A = []\n",
    "    L = []\n",
    "    U = []\n",
    "    matrix = A\n",
    "    counter = 0;\n",
    "    for line in lines:\n",
    "        if counter%n != 0 or counter == 0:\n",
    "            matrix.append(list(map(float, line.split(\" \")[:-1])))\n",
    "            counter = counter + 1\n",
    "        else:\n",
    "            if(counter == n):\n",
    "                matrix = L\n",
    "            elif(counter == 2*n):\n",
    "                matrix = U\n",
    "            matrix.append(list(map(float, line.split(\" \")[:-1])))\n",
    "            counter = counter + 1\n",
    "        if(counter == 3*n):\n",
    "            break\n",
    "    return A, L, U\n",
    "\n",
    "def printMatrix(matrix):\n",
    "    matrix = numpy.array(matrix)\n",
    "    for line in matrix:\n",
    "#         print (\"\\t\".join(map(str,line)))\n",
    "        print(line)\n",
    "\n",
    "A, L, U = read(opts.myfile)\n",
    "L = numpy.matrix(L)\n",
    "U = numpy.matrix(U)\n",
    "C = L * U # easy and intuitive, isn't it?\n",
    "printMatrix(C)\n",
    "# printMatrix(A)\n",
    "# printMatrix(B)\n",
    "\n",
    "\n"
   ]
  }
 ],
 "metadata": {
  "kernelspec": {
   "display_name": "Python 3",
   "language": "python",
   "name": "python3"
  },
  "language_info": {
   "codemirror_mode": {
    "name": "ipython",
    "version": 3
   },
   "file_extension": ".py",
   "mimetype": "text/x-python",
   "name": "python",
   "nbconvert_exporter": "python",
   "pygments_lexer": "ipython3",
   "version": "3.6.9"
  }
 },
 "nbformat": 4,
 "nbformat_minor": 2
}
